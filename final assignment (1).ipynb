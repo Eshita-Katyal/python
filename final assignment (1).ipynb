{
 "cells": [
  {
   "cell_type": "markdown",
   "id": "960f95da",
   "metadata": {},
   "source": [
    "# Data Science Basics"
   ]
  },
  {
   "cell_type": "markdown",
   "id": "100d7ac6",
   "metadata": {},
   "source": [
    "## Introduction\n",
    "This notebook is designed to introduce the basics of data science, including languages, libraries, tools, and examples of arithmetic expressions. The objective is to give a clear understanding of essential concepts and provide hands-on practice using code examples."
   ]
  },
  {
   "cell_type": "markdown",
   "id": "a0451074",
   "metadata": {},
   "source": [
    "## Data Science Languages\n",
    "The following are commonly used languages in data science:\n",
    "- Python\n",
    "- R\n",
    "- SQL\n",
    "- Julia\n",
    "- Scala"
   ]
  },
  {
   "cell_type": "markdown",
   "id": "3c2a19f8",
   "metadata": {},
   "source": [
    "## Data Science Libraries\n",
    "The following libraries are widely used in data science for different purposes:\n",
    "- Pandas (data manipulation)\n",
    "- NumPy (numerical computing)\n",
    "- Matplotlib (visualization)\n",
    "- TensorFlow (machine learning)\n",
    "- Scikit-learn (machine learning)"
   ]
  },
  {
   "cell_type": "markdown",
   "id": "5975e31f",
   "metadata": {},
   "source": [
    "## Data Science Tools\n",
    "Here is a table of common data science tools:\n",
    "\n",
    "| Tool        | Description                           | Purpose             |\n",
    "|-------------|---------------------------------------|---------------------|\n",
    "| Jupyter     | An open-source notebook environment   | Data analysis       |\n",
    "| VS Code     | A lightweight code editor             | Coding & debugging  |\n",
    "| Tableau     | A data visualization tool             | Data visualization  |\n",
    "| GitHub      | A platform for version control        | Collaboration       |"
   ]
  },
  {
   "cell_type": "markdown",
   "id": "46fed3d8",
   "metadata": {},
   "source": [
    "## Arithmetic Expression Examples\n",
    "In data science, arithmetic expressions are often used for data manipulation and analysis. Below are examples of simple arithmetic operations."
   ]
  },
  {
   "cell_type": "code",
   "execution_count": 2,
   "id": "8f355ab1",
   "metadata": {},
   "outputs": [
    {
     "data": {
      "text/plain": [
       "25"
      ]
     },
     "execution_count": 2,
     "metadata": {},
     "output_type": "execute_result"
    }
   ],
   "source": [
    "# Multiply and Add Numbers\n",
    "a = 5\n",
    "b = 3\n",
    "result = a * b + 10\n",
    "result\n"
   ]
  },
  {
   "cell_type": "code",
   "execution_count": 3,
   "id": "72e350e3",
   "metadata": {},
   "outputs": [
    {
     "data": {
      "text/plain": [
       "2.5"
      ]
     },
     "execution_count": 3,
     "metadata": {},
     "output_type": "execute_result"
    }
   ],
   "source": [
    "# Convert Minutes to Hours\n",
    "minutes = 150\n",
    "hours = minutes / 60\n",
    "hours\n"
   ]
  },
  {
   "cell_type": "markdown",
   "id": "7563d2a5",
   "metadata": {},
   "source": [
    "## Objectives\n",
    "- Understand the basic languages and libraries used in data science.\n",
    "- Learn how to use tools effectively for data analysis.\n",
    "- Gain hands-on experience with arithmetic operations and conversions in Python.\n"
   ]
  },
  {
   "cell_type": "markdown",
   "id": "91493f81",
   "metadata": {},
   "source": [
    "## Author\n",
    "This notebook was created by Dara."
   ]
  }
 ],
 "metadata": {
  "kernelspec": {
   "display_name": "Python 3 (ipykernel)",
   "language": "python",
   "name": "python3"
  },
  "language_info": {
   "codemirror_mode": {
    "name": "ipython",
    "version": 3
   },
   "file_extension": ".py",
   "mimetype": "text/x-python",
   "name": "python",
   "nbconvert_exporter": "python",
   "pygments_lexer": "ipython3",
   "version": "3.11.5"
  }
 },
 "nbformat": 4,
 "nbformat_minor": 5
}
